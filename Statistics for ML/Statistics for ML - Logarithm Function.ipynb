{
 "cells": [
  {
   "cell_type": "code",
   "execution_count": 106,
   "id": "322af037",
   "metadata": {},
   "outputs": [],
   "source": [
    "import pandas as pd\n",
    "import matplotlib.pyplot as plt\n",
    "import math\n",
    "import numpy as np\n",
    "\n",
    "from sklearn.preprocessing import LabelEncoder\n",
    "from sklearn.linear_model import LinearRegression"
   ]
  },
  {
   "cell_type": "code",
   "execution_count": 107,
   "id": "c47e934d",
   "metadata": {},
   "outputs": [
    {
     "data": {
      "text/html": [
       "<div>\n",
       "<style scoped>\n",
       "    .dataframe tbody tr th:only-of-type {\n",
       "        vertical-align: middle;\n",
       "    }\n",
       "\n",
       "    .dataframe tbody tr th {\n",
       "        vertical-align: top;\n",
       "    }\n",
       "\n",
       "    .dataframe thead th {\n",
       "        text-align: right;\n",
       "    }\n",
       "</style>\n",
       "<table border=\"1\" class=\"dataframe\">\n",
       "  <thead>\n",
       "    <tr style=\"text-align: right;\">\n",
       "      <th></th>\n",
       "      <th>company</th>\n",
       "      <th>revenue</th>\n",
       "    </tr>\n",
       "  </thead>\n",
       "  <tbody>\n",
       "    <tr>\n",
       "      <th>0</th>\n",
       "      <td>Tesla</td>\n",
       "      <td>31.0</td>\n",
       "    </tr>\n",
       "    <tr>\n",
       "      <th>1</th>\n",
       "      <td>UBER</td>\n",
       "      <td>11.0</td>\n",
       "    </tr>\n",
       "    <tr>\n",
       "      <th>2</th>\n",
       "      <td>Amazon</td>\n",
       "      <td>386.0</td>\n",
       "    </tr>\n",
       "    <tr>\n",
       "      <th>3</th>\n",
       "      <td>Jindal  Steel</td>\n",
       "      <td>4.7</td>\n",
       "    </tr>\n",
       "    <tr>\n",
       "      <th>4</th>\n",
       "      <td>Axis Bank</td>\n",
       "      <td>5.6</td>\n",
       "    </tr>\n",
       "    <tr>\n",
       "      <th>5</th>\n",
       "      <td>Vedanta</td>\n",
       "      <td>11.3</td>\n",
       "    </tr>\n",
       "  </tbody>\n",
       "</table>\n",
       "</div>"
      ],
      "text/plain": [
       "         company  revenue\n",
       "0         Tesla      31.0\n",
       "1           UBER     11.0\n",
       "2         Amazon    386.0\n",
       "3  Jindal  Steel      4.7\n",
       "4      Axis Bank      5.6\n",
       "5        Vedanta     11.3"
      ]
     },
     "execution_count": 107,
     "metadata": {},
     "output_type": "execute_result"
    }
   ],
   "source": [
    "df=pd.read_csv('C:\\\\Data\\\\Custom\\\\revenue.csv')\n",
    "df"
   ]
  },
  {
   "cell_type": "code",
   "execution_count": 108,
   "id": "5da04309",
   "metadata": {},
   "outputs": [
    {
     "data": {
      "text/plain": [
       "<BarContainer object of 6 artists>"
      ]
     },
     "execution_count": 108,
     "metadata": {},
     "output_type": "execute_result"
    },
    {
     "data": {
      "image/png": "[encoded data removed]",
      "text/plain": [
       "<Figure size 576x288 with 1 Axes>"
      ]
     },
     "metadata": {
      "needs_background": "light"
     },
     "output_type": "display_data"
    }
   ],
   "source": [
    "plt.figure(figsize=(8,4))\n",
    "plt.xlabel('Company')\n",
    "plt.ylabel('Revenue')\n",
    "plt.bar(df['company'],df['revenue'])"
   ]
  },
  {
   "cell_type": "code",
   "execution_count": 109,
   "id": "1417149c",
   "metadata": {},
   "outputs": [
    {
     "data": {
      "text/plain": [
       "<AxesSubplot:xlabel='company'>"
      ]
     },
     "execution_count": 109,
     "metadata": {},
     "output_type": "execute_result"
    },
    {
     "data": {
      "image/png": "[encoded data removed]",
      "text/plain": [
       "<Figure size 432x288 with 1 Axes>"
      ]
     },
     "metadata": {
      "needs_background": "light"
     },
     "output_type": "display_data"
    }
   ],
   "source": [
    "df.plot(x='company',y='revenue',kind='bar',logy=True)"
   ]
  },
  {
   "cell_type": "markdown",
   "id": "84e033e2",
   "metadata": {},
   "source": [
    "## Loan approval or not"
   ]
  },
  {
   "cell_type": "code",
   "execution_count": 110,
   "id": "f6ea1a33",
   "metadata": {},
   "outputs": [
    {
     "data": {
      "text/html": [
       "<div>\n",
       "<style scoped>\n",
       "    .dataframe tbody tr th:only-of-type {\n",
       "        vertical-align: middle;\n",
       "    }\n",
       "\n",
       "    .dataframe tbody tr th {\n",
       "        vertical-align: top;\n",
       "    }\n",
       "\n",
       "    .dataframe thead th {\n",
       "        text-align: right;\n",
       "    }\n",
       "</style>\n",
       "<table border=\"1\" class=\"dataframe\">\n",
       "  <thead>\n",
       "    <tr style=\"text-align: right;\">\n",
       "      <th></th>\n",
       "      <th>person_name</th>\n",
       "      <th>credit_score</th>\n",
       "      <th>income</th>\n",
       "      <th>age</th>\n",
       "      <th>approved</th>\n",
       "    </tr>\n",
       "  </thead>\n",
       "  <tbody>\n",
       "    <tr>\n",
       "      <th>0</th>\n",
       "      <td>Rob</td>\n",
       "      <td>750</td>\n",
       "      <td>80000</td>\n",
       "      <td>32</td>\n",
       "      <td>Y</td>\n",
       "    </tr>\n",
       "    <tr>\n",
       "      <th>1</th>\n",
       "      <td>Tom</td>\n",
       "      <td>310</td>\n",
       "      <td>32000</td>\n",
       "      <td>45</td>\n",
       "      <td>N</td>\n",
       "    </tr>\n",
       "    <tr>\n",
       "      <th>2</th>\n",
       "      <td>Xi</td>\n",
       "      <td>475</td>\n",
       "      <td>77000</td>\n",
       "      <td>33</td>\n",
       "      <td>Y</td>\n",
       "    </tr>\n",
       "    <tr>\n",
       "      <th>3</th>\n",
       "      <td>Mohan</td>\n",
       "      <td>600</td>\n",
       "      <td>65000</td>\n",
       "      <td>51</td>\n",
       "      <td>N</td>\n",
       "    </tr>\n",
       "    <tr>\n",
       "      <th>4</th>\n",
       "      <td>Pooja</td>\n",
       "      <td>820</td>\n",
       "      <td>550000</td>\n",
       "      <td>35</td>\n",
       "      <td>Y</td>\n",
       "    </tr>\n",
       "    <tr>\n",
       "      <th>5</th>\n",
       "      <td>Sofiya</td>\n",
       "      <td>780</td>\n",
       "      <td>75000</td>\n",
       "      <td>31</td>\n",
       "      <td>Y</td>\n",
       "    </tr>\n",
       "  </tbody>\n",
       "</table>\n",
       "</div>"
      ],
      "text/plain": [
       "  person_name  credit_score  income  age approved\n",
       "0         Rob           750   80000   32        Y\n",
       "1         Tom           310   32000   45        N\n",
       "2          Xi           475   77000   33        Y\n",
       "3       Mohan           600   65000   51        N\n",
       "4       Pooja           820  550000   35        Y\n",
       "5      Sofiya           780   75000   31        Y"
      ]
     },
     "execution_count": 110,
     "metadata": {},
     "output_type": "execute_result"
    }
   ],
   "source": [
    "data=pd.read_csv('C:\\\\Data\\\\Custom\\\\loan.csv')\n",
    "data"
   ]
  },
  {
   "cell_type": "code",
   "execution_count": 111,
   "id": "d5dc84df",
   "metadata": {
    "scrolled": true
   },
   "outputs": [
    {
     "data": {
      "text/html": [
       "<div>\n",
       "<style scoped>\n",
       "    .dataframe tbody tr th:only-of-type {\n",
       "        vertical-align: middle;\n",
       "    }\n",
       "\n",
       "    .dataframe tbody tr th {\n",
       "        vertical-align: top;\n",
       "    }\n",
       "\n",
       "    .dataframe thead th {\n",
       "        text-align: right;\n",
       "    }\n",
       "</style>\n",
       "<table border=\"1\" class=\"dataframe\">\n",
       "  <thead>\n",
       "    <tr style=\"text-align: right;\">\n",
       "      <th></th>\n",
       "      <th>person_name</th>\n",
       "      <th>credit_score</th>\n",
       "      <th>income</th>\n",
       "      <th>age</th>\n",
       "      <th>approved</th>\n",
       "      <th>log_of_income</th>\n",
       "    </tr>\n",
       "  </thead>\n",
       "  <tbody>\n",
       "    <tr>\n",
       "      <th>0</th>\n",
       "      <td>Rob</td>\n",
       "      <td>750</td>\n",
       "      <td>80000</td>\n",
       "      <td>32</td>\n",
       "      <td>Y</td>\n",
       "      <td>4.903090</td>\n",
       "    </tr>\n",
       "    <tr>\n",
       "      <th>1</th>\n",
       "      <td>Tom</td>\n",
       "      <td>310</td>\n",
       "      <td>32000</td>\n",
       "      <td>45</td>\n",
       "      <td>N</td>\n",
       "      <td>4.505150</td>\n",
       "    </tr>\n",
       "    <tr>\n",
       "      <th>2</th>\n",
       "      <td>Xi</td>\n",
       "      <td>475</td>\n",
       "      <td>77000</td>\n",
       "      <td>33</td>\n",
       "      <td>Y</td>\n",
       "      <td>4.886491</td>\n",
       "    </tr>\n",
       "    <tr>\n",
       "      <th>3</th>\n",
       "      <td>Mohan</td>\n",
       "      <td>600</td>\n",
       "      <td>65000</td>\n",
       "      <td>51</td>\n",
       "      <td>N</td>\n",
       "      <td>4.812913</td>\n",
       "    </tr>\n",
       "    <tr>\n",
       "      <th>4</th>\n",
       "      <td>Pooja</td>\n",
       "      <td>820</td>\n",
       "      <td>550000</td>\n",
       "      <td>35</td>\n",
       "      <td>Y</td>\n",
       "      <td>5.740363</td>\n",
       "    </tr>\n",
       "    <tr>\n",
       "      <th>5</th>\n",
       "      <td>Sofiya</td>\n",
       "      <td>780</td>\n",
       "      <td>75000</td>\n",
       "      <td>31</td>\n",
       "      <td>Y</td>\n",
       "      <td>4.875061</td>\n",
       "    </tr>\n",
       "  </tbody>\n",
       "</table>\n",
       "</div>"
      ],
      "text/plain": [
       "  person_name  credit_score  income  age approved  log_of_income\n",
       "0         Rob           750   80000   32        Y       4.903090\n",
       "1         Tom           310   32000   45        N       4.505150\n",
       "2          Xi           475   77000   33        Y       4.886491\n",
       "3       Mohan           600   65000   51        N       4.812913\n",
       "4       Pooja           820  550000   35        Y       5.740363\n",
       "5      Sofiya           780   75000   31        Y       4.875061"
      ]
     },
     "execution_count": 111,
     "metadata": {},
     "output_type": "execute_result"
    }
   ],
   "source": [
    "data['log_of_income']=np.log10(data.income)\n",
    "data"
   ]
  },
  {
   "cell_type": "code",
   "execution_count": 112,
   "id": "369609ac",
   "metadata": {},
   "outputs": [
    {
     "data": {
      "text/html": [
       "<div>\n",
       "<style scoped>\n",
       "    .dataframe tbody tr th:only-of-type {\n",
       "        vertical-align: middle;\n",
       "    }\n",
       "\n",
       "    .dataframe tbody tr th {\n",
       "        vertical-align: top;\n",
       "    }\n",
       "\n",
       "    .dataframe thead th {\n",
       "        text-align: right;\n",
       "    }\n",
       "</style>\n",
       "<table border=\"1\" class=\"dataframe\">\n",
       "  <thead>\n",
       "    <tr style=\"text-align: right;\">\n",
       "      <th></th>\n",
       "      <th>person_name</th>\n",
       "      <th>credit_score</th>\n",
       "      <th>income</th>\n",
       "      <th>age</th>\n",
       "      <th>approved</th>\n",
       "      <th>log_of_income</th>\n",
       "    </tr>\n",
       "  </thead>\n",
       "  <tbody>\n",
       "    <tr>\n",
       "      <th>0</th>\n",
       "      <td>Rob</td>\n",
       "      <td>750</td>\n",
       "      <td>80000</td>\n",
       "      <td>32</td>\n",
       "      <td>1</td>\n",
       "      <td>4.903090</td>\n",
       "    </tr>\n",
       "    <tr>\n",
       "      <th>1</th>\n",
       "      <td>Tom</td>\n",
       "      <td>310</td>\n",
       "      <td>32000</td>\n",
       "      <td>45</td>\n",
       "      <td>0</td>\n",
       "      <td>4.505150</td>\n",
       "    </tr>\n",
       "    <tr>\n",
       "      <th>2</th>\n",
       "      <td>Xi</td>\n",
       "      <td>475</td>\n",
       "      <td>77000</td>\n",
       "      <td>33</td>\n",
       "      <td>1</td>\n",
       "      <td>4.886491</td>\n",
       "    </tr>\n",
       "    <tr>\n",
       "      <th>3</th>\n",
       "      <td>Mohan</td>\n",
       "      <td>600</td>\n",
       "      <td>65000</td>\n",
       "      <td>51</td>\n",
       "      <td>0</td>\n",
       "      <td>4.812913</td>\n",
       "    </tr>\n",
       "    <tr>\n",
       "      <th>4</th>\n",
       "      <td>Pooja</td>\n",
       "      <td>820</td>\n",
       "      <td>550000</td>\n",
       "      <td>35</td>\n",
       "      <td>1</td>\n",
       "      <td>5.740363</td>\n",
       "    </tr>\n",
       "    <tr>\n",
       "      <th>5</th>\n",
       "      <td>Sofiya</td>\n",
       "      <td>780</td>\n",
       "      <td>75000</td>\n",
       "      <td>31</td>\n",
       "      <td>1</td>\n",
       "      <td>4.875061</td>\n",
       "    </tr>\n",
       "  </tbody>\n",
       "</table>\n",
       "</div>"
      ],
      "text/plain": [
       "  person_name  credit_score  income  age  approved  log_of_income\n",
       "0         Rob           750   80000   32         1       4.903090\n",
       "1         Tom           310   32000   45         0       4.505150\n",
       "2          Xi           475   77000   33         1       4.886491\n",
       "3       Mohan           600   65000   51         0       4.812913\n",
       "4       Pooja           820  550000   35         1       5.740363\n",
       "5      Sofiya           780   75000   31         1       4.875061"
      ]
     },
     "execution_count": 112,
     "metadata": {},
     "output_type": "execute_result"
    }
   ],
   "source": [
    "le=LabelEncoder()\n",
    "data['approved']=le.fit_transform(data['approved'])\n",
    "data"
   ]
  },
  {
   "cell_type": "code",
   "execution_count": 113,
   "id": "1effb26f",
   "metadata": {},
   "outputs": [],
   "source": [
    "x=data[['credit_score','log_of_income','age']]\n",
    "y=data['approved']"
   ]
  },
  {
   "cell_type": "code",
   "execution_count": 114,
   "id": "7b172a89",
   "metadata": {},
   "outputs": [
    {
     "data": {
      "text/html": [
       "<div>\n",
       "<style scoped>\n",
       "    .dataframe tbody tr th:only-of-type {\n",
       "        vertical-align: middle;\n",
       "    }\n",
       "\n",
       "    .dataframe tbody tr th {\n",
       "        vertical-align: top;\n",
       "    }\n",
       "\n",
       "    .dataframe thead th {\n",
       "        text-align: right;\n",
       "    }\n",
       "</style>\n",
       "<table border=\"1\" class=\"dataframe\">\n",
       "  <thead>\n",
       "    <tr style=\"text-align: right;\">\n",
       "      <th></th>\n",
       "      <th>credit_score</th>\n",
       "      <th>log_of_income</th>\n",
       "      <th>age</th>\n",
       "    </tr>\n",
       "  </thead>\n",
       "  <tbody>\n",
       "    <tr>\n",
       "      <th>0</th>\n",
       "      <td>750</td>\n",
       "      <td>4.903090</td>\n",
       "      <td>32</td>\n",
       "    </tr>\n",
       "    <tr>\n",
       "      <th>1</th>\n",
       "      <td>310</td>\n",
       "      <td>4.505150</td>\n",
       "      <td>45</td>\n",
       "    </tr>\n",
       "    <tr>\n",
       "      <th>2</th>\n",
       "      <td>475</td>\n",
       "      <td>4.886491</td>\n",
       "      <td>33</td>\n",
       "    </tr>\n",
       "    <tr>\n",
       "      <th>3</th>\n",
       "      <td>600</td>\n",
       "      <td>4.812913</td>\n",
       "      <td>51</td>\n",
       "    </tr>\n",
       "    <tr>\n",
       "      <th>4</th>\n",
       "      <td>820</td>\n",
       "      <td>5.740363</td>\n",
       "      <td>35</td>\n",
       "    </tr>\n",
       "    <tr>\n",
       "      <th>5</th>\n",
       "      <td>780</td>\n",
       "      <td>4.875061</td>\n",
       "      <td>31</td>\n",
       "    </tr>\n",
       "  </tbody>\n",
       "</table>\n",
       "</div>"
      ],
      "text/plain": [
       "   credit_score  log_of_income  age\n",
       "0           750       4.903090   32\n",
       "1           310       4.505150   45\n",
       "2           475       4.886491   33\n",
       "3           600       4.812913   51\n",
       "4           820       5.740363   35\n",
       "5           780       4.875061   31"
      ]
     },
     "execution_count": 114,
     "metadata": {},
     "output_type": "execute_result"
    }
   ],
   "source": [
    "x"
   ]
  },
  {
   "cell_type": "code",
   "execution_count": 115,
   "id": "2b957349",
   "metadata": {},
   "outputs": [],
   "source": [
    "model=LinearRegression().fit(x,y)"
   ]
  },
  {
   "cell_type": "code",
   "execution_count": 116,
   "id": "1fa1a586",
   "metadata": {},
   "outputs": [
    {
     "data": {
      "text/plain": [
       "0.9720318322011288"
      ]
     },
     "execution_count": 116,
     "metadata": {},
     "output_type": "execute_result"
    }
   ],
   "source": [
    "model.score(x,y)"
   ]
  },
  {
   "cell_type": "code",
   "execution_count": 117,
   "id": "cd3e83ff",
   "metadata": {},
   "outputs": [
    {
     "data": {
      "text/plain": [
       "array([0.96354697])"
      ]
     },
     "execution_count": 117,
     "metadata": {},
     "output_type": "execute_result"
    }
   ],
   "source": [
    "model.predict([[550,4.5,30]])"
   ]
  },
  {
   "cell_type": "code",
   "execution_count": null,
   "id": "f76a662b",
   "metadata": {},
   "outputs": [],
   "source": []
  }
 ],
 "metadata": {
  "kernelspec": {
   "display_name": "Python 3",
   "language": "python",
   "name": "python3"
  },
  "language_info": {
   "codemirror_mode": {
    "name": "ipython",
    "version": 3
   },
   "file_extension": ".py",
   "mimetype": "text/x-python",
   "name": "python",
   "nbconvert_exporter": "python",
   "pygments_lexer": "ipython3",
   "version": "3.8.5"
  }
 },
 "nbformat": 4,
 "nbformat_minor": 5
}
