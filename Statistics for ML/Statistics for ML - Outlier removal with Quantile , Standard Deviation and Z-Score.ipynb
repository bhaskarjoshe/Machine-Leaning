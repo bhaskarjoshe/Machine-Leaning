{
 "cells": [
  {
   "cell_type": "code",
   "execution_count": 63,
   "id": "33f4c83e",
   "metadata": {},
   "outputs": [],
   "source": [
    "import pandas as pd\n",
    "import numpy as np\n",
    "import seaborn as sns\n",
    "import warnings\n",
    "\n",
    "warnings.filterwarnings('ignore')"
   ]
  },
  {
   "cell_type": "code",
   "execution_count": 87,
   "id": "2838aba0",
   "metadata": {},
   "outputs": [
    {
     "data": {
      "text/html": [
       "<div>\n",
       "<style scoped>\n",
       "    .dataframe tbody tr th:only-of-type {\n",
       "        vertical-align: middle;\n",
       "    }\n",
       "\n",
       "    .dataframe tbody tr th {\n",
       "        vertical-align: top;\n",
       "    }\n",
       "\n",
       "    .dataframe thead th {\n",
       "        text-align: right;\n",
       "    }\n",
       "</style>\n",
       "<table border=\"1\" class=\"dataframe\">\n",
       "  <thead>\n",
       "    <tr style=\"text-align: right;\">\n",
       "      <th></th>\n",
       "      <th>location</th>\n",
       "      <th>size</th>\n",
       "      <th>total_sqft</th>\n",
       "      <th>bath</th>\n",
       "      <th>price</th>\n",
       "      <th>bhk</th>\n",
       "      <th>price_per_sqft</th>\n",
       "    </tr>\n",
       "  </thead>\n",
       "  <tbody>\n",
       "    <tr>\n",
       "      <th>11864</th>\n",
       "      <td>Tumkur Road</td>\n",
       "      <td>2 BHK</td>\n",
       "      <td>992.0</td>\n",
       "      <td>2.0</td>\n",
       "      <td>70.00</td>\n",
       "      <td>2</td>\n",
       "      <td>7056</td>\n",
       "    </tr>\n",
       "    <tr>\n",
       "      <th>7602</th>\n",
       "      <td>Electronic City Phase II</td>\n",
       "      <td>3 BHK</td>\n",
       "      <td>1220.0</td>\n",
       "      <td>2.0</td>\n",
       "      <td>36.21</td>\n",
       "      <td>3</td>\n",
       "      <td>2968</td>\n",
       "    </tr>\n",
       "    <tr>\n",
       "      <th>10258</th>\n",
       "      <td>Vishveshwarya Layout</td>\n",
       "      <td>6 Bedroom</td>\n",
       "      <td>4000.0</td>\n",
       "      <td>6.0</td>\n",
       "      <td>230.00</td>\n",
       "      <td>6</td>\n",
       "      <td>5750</td>\n",
       "    </tr>\n",
       "    <tr>\n",
       "      <th>5518</th>\n",
       "      <td>Akshaya Nagar</td>\n",
       "      <td>3 BHK</td>\n",
       "      <td>1690.0</td>\n",
       "      <td>3.0</td>\n",
       "      <td>85.00</td>\n",
       "      <td>3</td>\n",
       "      <td>5029</td>\n",
       "    </tr>\n",
       "    <tr>\n",
       "      <th>4798</th>\n",
       "      <td>Uttarahalli</td>\n",
       "      <td>1 BHK</td>\n",
       "      <td>661.0</td>\n",
       "      <td>1.0</td>\n",
       "      <td>36.00</td>\n",
       "      <td>1</td>\n",
       "      <td>5446</td>\n",
       "    </tr>\n",
       "    <tr>\n",
       "      <th>7643</th>\n",
       "      <td>other</td>\n",
       "      <td>4 BHK</td>\n",
       "      <td>5422.0</td>\n",
       "      <td>6.0</td>\n",
       "      <td>1900.00</td>\n",
       "      <td>4</td>\n",
       "      <td>35042</td>\n",
       "    </tr>\n",
       "    <tr>\n",
       "      <th>9158</th>\n",
       "      <td>Harlur</td>\n",
       "      <td>2 BHK</td>\n",
       "      <td>1386.0</td>\n",
       "      <td>2.0</td>\n",
       "      <td>85.00</td>\n",
       "      <td>2</td>\n",
       "      <td>6132</td>\n",
       "    </tr>\n",
       "    <tr>\n",
       "      <th>1482</th>\n",
       "      <td>Kengeri</td>\n",
       "      <td>2 BHK</td>\n",
       "      <td>1197.0</td>\n",
       "      <td>2.0</td>\n",
       "      <td>50.00</td>\n",
       "      <td>2</td>\n",
       "      <td>4177</td>\n",
       "    </tr>\n",
       "    <tr>\n",
       "      <th>8598</th>\n",
       "      <td>Balagere</td>\n",
       "      <td>2 BHK</td>\n",
       "      <td>1007.0</td>\n",
       "      <td>2.0</td>\n",
       "      <td>53.00</td>\n",
       "      <td>2</td>\n",
       "      <td>5263</td>\n",
       "    </tr>\n",
       "    <tr>\n",
       "      <th>9257</th>\n",
       "      <td>Nagavarapalya</td>\n",
       "      <td>2 BHK</td>\n",
       "      <td>1335.0</td>\n",
       "      <td>2.0</td>\n",
       "      <td>110.00</td>\n",
       "      <td>2</td>\n",
       "      <td>8239</td>\n",
       "    </tr>\n",
       "  </tbody>\n",
       "</table>\n",
       "</div>"
      ],
      "text/plain": [
       "                       location       size  total_sqft  bath    price  bhk  \\\n",
       "11864               Tumkur Road      2 BHK       992.0   2.0    70.00    2   \n",
       "7602   Electronic City Phase II      3 BHK      1220.0   2.0    36.21    3   \n",
       "10258      Vishveshwarya Layout  6 Bedroom      4000.0   6.0   230.00    6   \n",
       "5518              Akshaya Nagar      3 BHK      1690.0   3.0    85.00    3   \n",
       "4798                Uttarahalli      1 BHK       661.0   1.0    36.00    1   \n",
       "7643                      other      4 BHK      5422.0   6.0  1900.00    4   \n",
       "9158                     Harlur      2 BHK      1386.0   2.0    85.00    2   \n",
       "1482                    Kengeri      2 BHK      1197.0   2.0    50.00    2   \n",
       "8598                   Balagere      2 BHK      1007.0   2.0    53.00    2   \n",
       "9257              Nagavarapalya      2 BHK      1335.0   2.0   110.00    2   \n",
       "\n",
       "       price_per_sqft  \n",
       "11864            7056  \n",
       "7602             2968  \n",
       "10258            5750  \n",
       "5518             5029  \n",
       "4798             5446  \n",
       "7643            35042  \n",
       "9158             6132  \n",
       "1482             4177  \n",
       "8598             5263  \n",
       "9257             8239  "
      ]
     },
     "execution_count": 87,
     "metadata": {},
     "output_type": "execute_result"
    }
   ],
   "source": [
    "df=pd.read_csv('C:\\\\Data\\\\Custom\\\\bhp.csv')\n",
    "df.sample(10)"
   ]
  },
  {
   "cell_type": "code",
   "execution_count": null,
   "id": "92056817",
   "metadata": {},
   "outputs": [],
   "source": [
    "zz"
   ]
  },
  {
   "cell_type": "code",
   "execution_count": 98,
   "id": "9bd35a6a",
   "metadata": {
    "scrolled": true
   },
   "outputs": [
    {
     "name": "stdout",
     "output_type": "stream",
     "text": [
      "(13200, 7)\n"
     ]
    },
    {
     "data": {
      "text/plain": [
       "count    1.320000e+04\n",
       "mean     7.920337e+03\n",
       "std      1.067272e+05\n",
       "min      2.670000e+02\n",
       "25%      4.267000e+03\n",
       "50%      5.438000e+03\n",
       "75%      7.317000e+03\n",
       "max      1.200000e+07\n",
       "Name: price_per_sqft, dtype: float64"
      ]
     },
     "execution_count": 98,
     "metadata": {},
     "output_type": "execute_result"
    }
   ],
   "source": [
    "print(df.shape)\n",
    "df.price_per_sqft.describe()"
   ]
  },
  {
   "cell_type": "code",
   "execution_count": 94,
   "id": "4339042a",
   "metadata": {},
   "outputs": [
    {
     "name": "stdout",
     "output_type": "stream",
     "text": [
      "1366 50959\n"
     ]
    }
   ],
   "source": [
    "min_value,max_value=df.price_per_sqft.quantile([0.001,0.999])\n",
    "print(round(min_value),round(max_value))"
   ]
  },
  {
   "cell_type": "code",
   "execution_count": 97,
   "id": "df1bccf5",
   "metadata": {},
   "outputs": [
    {
     "data": {
      "text/plain": [
       "(13172, 7)"
      ]
     },
     "execution_count": 97,
     "metadata": {},
     "output_type": "execute_result"
    }
   ],
   "source": [
    "new_df=df[(df['price_per_sqft']>min_value) & (df['price_per_sqft']<max_value)]\n",
    "new_df.shape"
   ]
  },
  {
   "cell_type": "code",
   "execution_count": 102,
   "id": "8c61aec5",
   "metadata": {},
   "outputs": [],
   "source": [
    "mean=new_df['price_per_sqft'].mean()\n",
    "std=new_df['price_per_sqft'].std()"
   ]
  },
  {
   "cell_type": "code",
   "execution_count": 104,
   "id": "ee67e412",
   "metadata": {},
   "outputs": [
    {
     "data": {
      "text/plain": [
       "(13151, 7)"
      ]
     },
     "execution_count": 104,
     "metadata": {},
     "output_type": "execute_result"
    }
   ],
   "source": [
    "range1,range2=mean-4*std,mean+4*std\n",
    "new_df=new_df[(new_df['price_per_sqft']>range1) & (new_df['price_per_sqft']<range2)]\n",
    "new_df.shape"
   ]
  },
  {
   "cell_type": "code",
   "execution_count": 108,
   "id": "50ba88b9",
   "metadata": {},
   "outputs": [
    {
     "data": {
      "image/png": "[encoded data removed]",
      "text/plain": [
       "<Figure size 792x576 with 1 Axes>"
      ]
     },
     "metadata": {},
     "output_type": "display_data"
    }
   ],
   "source": [
    "sns.set(rc={'figure.figsize':(11,8)})\n",
    "a=sns.histplot(new_df['price_per_sqft'],kde=True)\n",
    "a.set(xscale='log');"
   ]
  },
  {
   "cell_type": "code",
   "execution_count": 112,
   "id": "7d855def",
   "metadata": {},
   "outputs": [
    {
     "data": {
      "text/html": [
       "<div>\n",
       "<style scoped>\n",
       "    .dataframe tbody tr th:only-of-type {\n",
       "        vertical-align: middle;\n",
       "    }\n",
       "\n",
       "    .dataframe tbody tr th {\n",
       "        vertical-align: top;\n",
       "    }\n",
       "\n",
       "    .dataframe thead th {\n",
       "        text-align: right;\n",
       "    }\n",
       "</style>\n",
       "<table border=\"1\" class=\"dataframe\">\n",
       "  <thead>\n",
       "    <tr style=\"text-align: right;\">\n",
       "      <th></th>\n",
       "      <th>location</th>\n",
       "      <th>size</th>\n",
       "      <th>total_sqft</th>\n",
       "      <th>bath</th>\n",
       "      <th>price</th>\n",
       "      <th>bhk</th>\n",
       "      <th>price_per_sqft</th>\n",
       "      <th>z_scores</th>\n",
       "    </tr>\n",
       "  </thead>\n",
       "  <tbody>\n",
       "    <tr>\n",
       "      <th>5920</th>\n",
       "      <td>Bisuvanahalli</td>\n",
       "      <td>3 BHK</td>\n",
       "      <td>1075.0</td>\n",
       "      <td>2.0</td>\n",
       "      <td>52.00</td>\n",
       "      <td>3</td>\n",
       "      <td>4837</td>\n",
       "      <td>-0.452778</td>\n",
       "    </tr>\n",
       "    <tr>\n",
       "      <th>10583</th>\n",
       "      <td>Yelahanka New Town</td>\n",
       "      <td>1 BHK</td>\n",
       "      <td>488.0</td>\n",
       "      <td>1.0</td>\n",
       "      <td>20.00</td>\n",
       "      <td>1</td>\n",
       "      <td>4098</td>\n",
       "      <td>-0.644824</td>\n",
       "    </tr>\n",
       "    <tr>\n",
       "      <th>2582</th>\n",
       "      <td>Arekere</td>\n",
       "      <td>3 BHK</td>\n",
       "      <td>2072.0</td>\n",
       "      <td>3.0</td>\n",
       "      <td>108.00</td>\n",
       "      <td>3</td>\n",
       "      <td>5212</td>\n",
       "      <td>-0.355325</td>\n",
       "    </tr>\n",
       "    <tr>\n",
       "      <th>2134</th>\n",
       "      <td>Attibele</td>\n",
       "      <td>4 Bedroom</td>\n",
       "      <td>2168.0</td>\n",
       "      <td>4.0</td>\n",
       "      <td>95.00</td>\n",
       "      <td>4</td>\n",
       "      <td>4381</td>\n",
       "      <td>-0.571280</td>\n",
       "    </tr>\n",
       "    <tr>\n",
       "      <th>6113</th>\n",
       "      <td>Bommanahalli</td>\n",
       "      <td>2 BHK</td>\n",
       "      <td>1100.0</td>\n",
       "      <td>1.0</td>\n",
       "      <td>55.00</td>\n",
       "      <td>2</td>\n",
       "      <td>5000</td>\n",
       "      <td>-0.410418</td>\n",
       "    </tr>\n",
       "    <tr>\n",
       "      <th>9395</th>\n",
       "      <td>Hormavu</td>\n",
       "      <td>2 BHK</td>\n",
       "      <td>1065.0</td>\n",
       "      <td>2.0</td>\n",
       "      <td>50.92</td>\n",
       "      <td>2</td>\n",
       "      <td>4781</td>\n",
       "      <td>-0.467331</td>\n",
       "    </tr>\n",
       "    <tr>\n",
       "      <th>6495</th>\n",
       "      <td>Sarjapur  Road</td>\n",
       "      <td>3 BHK</td>\n",
       "      <td>1700.0</td>\n",
       "      <td>3.0</td>\n",
       "      <td>108.00</td>\n",
       "      <td>3</td>\n",
       "      <td>6352</td>\n",
       "      <td>-0.059069</td>\n",
       "    </tr>\n",
       "    <tr>\n",
       "      <th>8727</th>\n",
       "      <td>other</td>\n",
       "      <td>3 Bedroom</td>\n",
       "      <td>2400.0</td>\n",
       "      <td>4.0</td>\n",
       "      <td>130.00</td>\n",
       "      <td>3</td>\n",
       "      <td>5416</td>\n",
       "      <td>-0.302311</td>\n",
       "    </tr>\n",
       "    <tr>\n",
       "      <th>4602</th>\n",
       "      <td>Jalahalli</td>\n",
       "      <td>3 BHK</td>\n",
       "      <td>1932.0</td>\n",
       "      <td>4.0</td>\n",
       "      <td>135.00</td>\n",
       "      <td>3</td>\n",
       "      <td>6987</td>\n",
       "      <td>0.105950</td>\n",
       "    </tr>\n",
       "    <tr>\n",
       "      <th>7560</th>\n",
       "      <td>Whitefield</td>\n",
       "      <td>2 BHK</td>\n",
       "      <td>1186.0</td>\n",
       "      <td>2.0</td>\n",
       "      <td>55.00</td>\n",
       "      <td>2</td>\n",
       "      <td>4637</td>\n",
       "      <td>-0.504752</td>\n",
       "    </tr>\n",
       "  </tbody>\n",
       "</table>\n",
       "</div>"
      ],
      "text/plain": [
       "                 location       size  total_sqft  bath   price  bhk  \\\n",
       "5920        Bisuvanahalli      3 BHK      1075.0   2.0   52.00    3   \n",
       "10583  Yelahanka New Town      1 BHK       488.0   1.0   20.00    1   \n",
       "2582              Arekere      3 BHK      2072.0   3.0  108.00    3   \n",
       "2134             Attibele  4 Bedroom      2168.0   4.0   95.00    4   \n",
       "6113         Bommanahalli      2 BHK      1100.0   1.0   55.00    2   \n",
       "9395              Hormavu      2 BHK      1065.0   2.0   50.92    2   \n",
       "6495       Sarjapur  Road      3 BHK      1700.0   3.0  108.00    3   \n",
       "8727                other  3 Bedroom      2400.0   4.0  130.00    3   \n",
       "4602            Jalahalli      3 BHK      1932.0   4.0  135.00    3   \n",
       "7560           Whitefield      2 BHK      1186.0   2.0   55.00    2   \n",
       "\n",
       "       price_per_sqft  z_scores  \n",
       "5920             4837 -0.452778  \n",
       "10583            4098 -0.644824  \n",
       "2582             5212 -0.355325  \n",
       "2134             4381 -0.571280  \n",
       "6113             5000 -0.410418  \n",
       "9395             4781 -0.467331  \n",
       "6495             6352 -0.059069  \n",
       "8727             5416 -0.302311  \n",
       "4602             6987  0.105950  \n",
       "7560             4637 -0.504752  "
      ]
     },
     "execution_count": 112,
     "metadata": {},
     "output_type": "execute_result"
    }
   ],
   "source": [
    "new_df['z_scores']=(new_df['price_per_sqft']-new_df['price_per_sqft'].mean())/new_df['price_per_sqft'].std()\n",
    "new_df.sample(10)"
   ]
  },
  {
   "cell_type": "code",
   "execution_count": 117,
   "id": "c6791187",
   "metadata": {},
   "outputs": [
    {
     "data": {
      "text/plain": [
       "<AxesSubplot:xlabel='z_scores', ylabel='Count'>"
      ]
     },
     "execution_count": 117,
     "metadata": {},
     "output_type": "execute_result"
    },
    {
     "data": {
      "image/png": "[encoded data removed]",
      "text/plain": [
       "<Figure size 792x576 with 1 Axes>"
      ]
     },
     "metadata": {},
     "output_type": "display_data"
    }
   ],
   "source": [
    "sns.histplot(new_df['z_scores'])"
   ]
  },
  {
   "cell_type": "code",
   "execution_count": 124,
   "id": "caaaf0e5",
   "metadata": {
    "scrolled": true
   },
   "outputs": [],
   "source": [
    "new_df=new_df[new_df['z_scores']<1.5]"
   ]
  },
  {
   "cell_type": "code",
   "execution_count": 125,
   "id": "2aee3965",
   "metadata": {},
   "outputs": [
    {
     "data": {
      "text/plain": [
       "<AxesSubplot:xlabel='z_scores', ylabel='Count'>"
      ]
     },
     "execution_count": 125,
     "metadata": {},
     "output_type": "execute_result"
    },
    {
     "data": {
      "image/png": "[encoded data removed]",
      "text/plain": [
       "<Figure size 792x576 with 1 Axes>"
      ]
     },
     "metadata": {},
     "output_type": "display_data"
    }
   ],
   "source": [
    "sns.histplot(new_df['z_scores'],kde=True)"
   ]
  },
  {
   "cell_type": "code",
   "execution_count": null,
   "id": "4ae9232f",
   "metadata": {},
   "outputs": [],
   "source": []
  }
 ],
 "metadata": {
  "kernelspec": {
   "display_name": "Python 3",
   "language": "python",
   "name": "python3"
  },
  "language_info": {
   "codemirror_mode": {
    "name": "ipython",
    "version": 3
   },
   "file_extension": ".py",
   "mimetype": "text/x-python",
   "name": "python",
   "nbconvert_exporter": "python",
   "pygments_lexer": "ipython3",
   "version": "3.8.5"
  }
 },
 "nbformat": 4,
 "nbformat_minor": 5
}
